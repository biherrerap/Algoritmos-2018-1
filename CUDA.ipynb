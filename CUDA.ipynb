{
  "nbformat": 4,
  "nbformat_minor": 0,
  "metadata": {
    "colab": {
      "name": "CUDA",
      "version": "0.3.2",
      "provenance": [],
      "collapsed_sections": [],
      "toc_visible": true,
      "include_colab_link": true
    },
    "kernelspec": {
      "name": "python3",
      "display_name": "Python 3"
    },
    "accelerator": "GPU"
  },
  "cells": [
    {
      "cell_type": "markdown",
      "metadata": {
        "id": "view-in-github",
        "colab_type": "text"
      },
      "source": [
        "<a href=\"https://colab.research.google.com/github/biherrerap/Algoritmos-2018-1/blob/master/CUDA.ipynb\" target=\"_parent\"><img src=\"https://colab.research.google.com/assets/colab-badge.svg\" alt=\"Open In Colab\"/></a>"
      ]
    },
    {
      "cell_type": "code",
      "metadata": {
        "id": "1gWwBsHKzDK4",
        "colab_type": "code",
        "outputId": "855f8521-4c43-4e01-cb01-09195f322fc6",
        "colab": {
          "base_uri": "https://localhost:8080/",
          "height": 785
        }
      },
      "source": [
        "!echo CUDA AND NVIDIA INSTALLATION\n",
        "!echo NOTE: THERE IS A QUESTION IN THE INSTALLATION, PLEASE DO NOT FORGET TO ANSWER IT (YOU CAN CHOOSE Y)\n",
        "!wget https://developer.download.nvidia.com/compute/cuda/repos/ubuntu1604/x86_64/cuda-repo-ubuntu1604_8.0.61-1_amd64.deb;\n",
        "!dpkg -i cuda-repo-ubuntu1604_8.0.61-1_amd64.deb;\n",
        "!apt-get update -qq;\n",
        "!apt-get install cuda-8.0;\n",
        "!ln -sf /usr/local/cuda-8.0 /usr/local/cuda"
      ],
      "execution_count": 0,
      "outputs": [
        {
          "output_type": "stream",
          "text": [
            "CUDA AND NVIDIA INSTALLATION\n",
            "/bin/bash: -c: line 0: syntax error near unexpected token `('\n",
            "/bin/bash: -c: line 0: `echo NOTE: THERE IS A QUESTION IN THE INSTALLATION, PLEASE DO NOT FORGET TO ANSWER IT (YOU CAN CHOOSE Y)'\n",
            "--2019-06-05 02:51:36--  https://developer.download.nvidia.com/compute/cuda/repos/ubuntu1604/x86_64/cuda-repo-ubuntu1604_8.0.61-1_amd64.deb\n",
            "Resolving developer.download.nvidia.com (developer.download.nvidia.com)... 192.229.211.70, 2606:2800:21f:3aa:dcf:37b:1ed6:1fb\n",
            "Connecting to developer.download.nvidia.com (developer.download.nvidia.com)|192.229.211.70|:443... connected.\n",
            "HTTP request sent, awaiting response... 200 OK\n",
            "Length: 2690 (2.6K) [application/x-deb]\n",
            "Saving to: ‘cuda-repo-ubuntu1604_8.0.61-1_amd64.deb’\n",
            "\n",
            "cuda-repo-ubuntu160 100%[===================>]   2.63K  --.-KB/s    in 0s      \n",
            "\n",
            "2019-06-05 02:51:36 (195 MB/s) - ‘cuda-repo-ubuntu1604_8.0.61-1_amd64.deb’ saved [2690/2690]\n",
            "\n",
            "Selecting previously unselected package cuda-repo-ubuntu1604.\n",
            "(Reading database ... 130912 files and directories currently installed.)\n",
            "Preparing to unpack cuda-repo-ubuntu1604_8.0.61-1_amd64.deb ...\n",
            "Unpacking cuda-repo-ubuntu1604 (8.0.61-1) ...\n",
            "Setting up cuda-repo-ubuntu1604 (8.0.61-1) ...\n",
            "\n",
            "Configuration file '/etc/apt/sources.list.d/cuda.list'\n",
            " ==> File on system created by you or by a script.\n",
            " ==> File also in package provided by package maintainer.\n",
            "   What would you like to do about it ?  Your options are:\n",
            "    Y or I  : install the package maintainer's version\n",
            "    N or O  : keep your currently-installed version\n",
            "      D     : show the differences between the versions\n",
            "      Z     : start a shell to examine the situation\n",
            " The default action is to keep your current version.\n",
            "*** cuda.list (Y/I/N/O/D/Z) [default=N] ? N\n",
            "Warning: The postinst maintainerscript of the package cuda-repo-ubuntu1604\n",
            "Warning: seems to use apt-key (provided by apt) without depending on gnupg or gnupg2.\n",
            "Warning: This will BREAK in the future and should be fixed by the package maintainer(s).\n",
            "Note: Check first if apt-key functionality is needed at all - it probably isn't!\n",
            "Warning: apt-key should not be used in scripts (called from postinst maintainerscript of the package cuda-repo-ubuntu1604)\n",
            "OK\n",
            "Reading package lists... Done\n",
            "Building dependency tree       \n",
            "Reading state information... Done\n",
            "Note, selecting 'libcuda-8.0-1' for regex 'cuda-8.0'\n",
            "The following package was automatically installed and is no longer required:\n",
            "  libnvidia-common-410\n",
            "Use 'apt autoremove' to remove it.\n",
            "0 upgraded, 0 newly installed, 0 to remove and 30 not upgraded.\n"
          ],
          "name": "stdout"
        }
      ]
    },
    {
      "cell_type": "code",
      "metadata": {
        "id": "02l44MvkzPWF",
        "colab_type": "code",
        "outputId": "9791efd3-a3d6-4db9-ec07-59638e5a0090",
        "colab": {
          "base_uri": "https://localhost:8080/",
          "height": 884
        }
      },
      "source": [
        "import os\n",
        "os.environ['PATH'] += ':/usr/local/cuda/bin'\n",
        "os.environ['LD_LIBRARY_PATH'] += ':/usr/local/cuda/lib'\n",
        "\n",
        "!apt-get install gcc-5 g++-5 -y -qq;\n",
        "!ln -s /usr/bin/gcc-5 /usr/local/cuda/bin/gcc;\n",
        "!ln -s /usr/bin/g++-5 /usr/local/cuda/bin/g++;\n",
        "!pip install git+git://github.com/andreinechaev/nvcc4jupyter.git\n",
        "%load_ext nvcc_plugin"
      ],
      "execution_count": 0,
      "outputs": [
        {
          "output_type": "stream",
          "text": [
            "Selecting previously unselected package gcc-5-base:amd64.\n",
            "(Reading database ... 130912 files and directories currently installed.)\n",
            "Preparing to unpack .../0-gcc-5-base_5.5.0-12ubuntu1_amd64.deb ...\n",
            "Unpacking gcc-5-base:amd64 (5.5.0-12ubuntu1) ...\n",
            "Selecting previously unselected package libisl15:amd64.\n",
            "Preparing to unpack .../1-libisl15_0.18-4_amd64.deb ...\n",
            "Unpacking libisl15:amd64 (0.18-4) ...\n",
            "Selecting previously unselected package cpp-5.\n",
            "Preparing to unpack .../2-cpp-5_5.5.0-12ubuntu1_amd64.deb ...\n",
            "Unpacking cpp-5 (5.5.0-12ubuntu1) ...\n",
            "Selecting previously unselected package libasan2:amd64.\n",
            "Preparing to unpack .../3-libasan2_5.5.0-12ubuntu1_amd64.deb ...\n",
            "Unpacking libasan2:amd64 (5.5.0-12ubuntu1) ...\n",
            "Selecting previously unselected package libmpx0:amd64.\n",
            "Preparing to unpack .../4-libmpx0_5.5.0-12ubuntu1_amd64.deb ...\n",
            "Unpacking libmpx0:amd64 (5.5.0-12ubuntu1) ...\n",
            "Selecting previously unselected package libgcc-5-dev:amd64.\n",
            "Preparing to unpack .../5-libgcc-5-dev_5.5.0-12ubuntu1_amd64.deb ...\n",
            "Unpacking libgcc-5-dev:amd64 (5.5.0-12ubuntu1) ...\n",
            "Selecting previously unselected package gcc-5.\n",
            "Preparing to unpack .../6-gcc-5_5.5.0-12ubuntu1_amd64.deb ...\n",
            "Unpacking gcc-5 (5.5.0-12ubuntu1) ...\n",
            "Selecting previously unselected package libstdc++-5-dev:amd64.\n",
            "Preparing to unpack .../7-libstdc++-5-dev_5.5.0-12ubuntu1_amd64.deb ...\n",
            "Unpacking libstdc++-5-dev:amd64 (5.5.0-12ubuntu1) ...\n",
            "Selecting previously unselected package g++-5.\n",
            "Preparing to unpack .../8-g++-5_5.5.0-12ubuntu1_amd64.deb ...\n",
            "Unpacking g++-5 (5.5.0-12ubuntu1) ...\n",
            "Setting up libisl15:amd64 (0.18-4) ...\n",
            "Processing triggers for libc-bin (2.27-3ubuntu1) ...\n",
            "Processing triggers for man-db (2.8.3-2ubuntu0.1) ...\n",
            "Setting up gcc-5-base:amd64 (5.5.0-12ubuntu1) ...\n",
            "Setting up libmpx0:amd64 (5.5.0-12ubuntu1) ...\n",
            "Setting up libasan2:amd64 (5.5.0-12ubuntu1) ...\n",
            "Setting up libgcc-5-dev:amd64 (5.5.0-12ubuntu1) ...\n",
            "Setting up cpp-5 (5.5.0-12ubuntu1) ...\n",
            "Setting up libstdc++-5-dev:amd64 (5.5.0-12ubuntu1) ...\n",
            "Setting up gcc-5 (5.5.0-12ubuntu1) ...\n",
            "Setting up g++-5 (5.5.0-12ubuntu1) ...\n",
            "Processing triggers for libc-bin (2.27-3ubuntu1) ...\n",
            "Collecting git+git://github.com/andreinechaev/nvcc4jupyter.git\n",
            "  Cloning git://github.com/andreinechaev/nvcc4jupyter.git to /tmp/pip-req-build-449oxtkj\n",
            "  Running command git clone -q git://github.com/andreinechaev/nvcc4jupyter.git /tmp/pip-req-build-449oxtkj\n",
            "Building wheels for collected packages: NVCCPlugin\n",
            "  Building wheel for NVCCPlugin (setup.py) ... \u001b[?25l\u001b[?25hdone\n",
            "  Stored in directory: /tmp/pip-ephem-wheel-cache-248et6x5/wheels/10/c2/05/ca241da37bff77d60d31a9174f988109c61ba989e4d4650516\n",
            "Successfully built NVCCPlugin\n",
            "Installing collected packages: NVCCPlugin\n",
            "Successfully installed NVCCPlugin-0.0.2\n",
            "created output directory at /content/src\n",
            "Out bin /content/result.out\n"
          ],
          "name": "stdout"
        }
      ]
    },
    {
      "cell_type": "code",
      "metadata": {
        "id": "FqesLUnJ1g6s",
        "colab_type": "code",
        "outputId": "35d71c81-bbee-486c-b101-04216afedce2",
        "colab": {
          "base_uri": "https://localhost:8080/",
          "height": 972
        }
      },
      "source": [
        "!echo NVIDIA CUDA AND DRIVES VERIFICATION\n",
        "%cd /usr/local/cuda/samples/1_Utilities/deviceQuery/\n",
        "!ls\n",
        "!make\n",
        "!./deviceQuery\n",
        "!nvcc --version"
      ],
      "execution_count": 0,
      "outputs": [
        {
          "output_type": "stream",
          "text": [
            "NVIDIA CUDA AND DRIVES VERIFICATION\n",
            "/usr/local/cuda-10.0/samples/1_Utilities/deviceQuery\n",
            "deviceQuery.cpp  Makefile  NsightEclipse.xml  readme.txt\n",
            "/usr/local/cuda-10.0/bin/nvcc -ccbin g++ -I../../common/inc  -m64    -gencode arch=compute_30,code=sm_30 -gencode arch=compute_35,code=sm_35 -gencode arch=compute_37,code=sm_37 -gencode arch=compute_50,code=sm_50 -gencode arch=compute_52,code=sm_52 -gencode arch=compute_60,code=sm_60 -gencode arch=compute_61,code=sm_61 -gencode arch=compute_70,code=sm_70 -gencode arch=compute_75,code=sm_75 -gencode arch=compute_75,code=compute_75 -o deviceQuery.o -c deviceQuery.cpp\n",
            "/usr/local/cuda-10.0/bin/nvcc -ccbin g++   -m64      -gencode arch=compute_30,code=sm_30 -gencode arch=compute_35,code=sm_35 -gencode arch=compute_37,code=sm_37 -gencode arch=compute_50,code=sm_50 -gencode arch=compute_52,code=sm_52 -gencode arch=compute_60,code=sm_60 -gencode arch=compute_61,code=sm_61 -gencode arch=compute_70,code=sm_70 -gencode arch=compute_75,code=sm_75 -gencode arch=compute_75,code=compute_75 -o deviceQuery deviceQuery.o \n",
            "mkdir -p ../../bin/x86_64/linux/release\n",
            "cp deviceQuery ../../bin/x86_64/linux/release\n",
            "./deviceQuery Starting...\n",
            "\n",
            " CUDA Device Query (Runtime API) version (CUDART static linking)\n",
            "\n",
            "Detected 1 CUDA Capable device(s)\n",
            "\n",
            "Device 0: \"Tesla T4\"\n",
            "  CUDA Driver Version / Runtime Version          10.0 / 10.0\n",
            "  CUDA Capability Major/Minor version number:    7.5\n",
            "  Total amount of global memory:                 15080 MBytes (15812263936 bytes)\n",
            "  (40) Multiprocessors, ( 64) CUDA Cores/MP:     2560 CUDA Cores\n",
            "  GPU Max Clock rate:                            1590 MHz (1.59 GHz)\n",
            "  Memory Clock rate:                             5001 Mhz\n",
            "  Memory Bus Width:                              256-bit\n",
            "  L2 Cache Size:                                 4194304 bytes\n",
            "  Maximum Texture Dimension Size (x,y,z)         1D=(131072), 2D=(131072, 65536), 3D=(16384, 16384, 16384)\n",
            "  Maximum Layered 1D Texture Size, (num) layers  1D=(32768), 2048 layers\n",
            "  Maximum Layered 2D Texture Size, (num) layers  2D=(32768, 32768), 2048 layers\n",
            "  Total amount of constant memory:               65536 bytes\n",
            "  Total amount of shared memory per block:       49152 bytes\n",
            "  Total number of registers available per block: 65536\n",
            "  Warp size:                                     32\n",
            "  Maximum number of threads per multiprocessor:  1024\n",
            "  Maximum number of threads per block:           1024\n",
            "  Max dimension size of a thread block (x,y,z): (1024, 1024, 64)\n",
            "  Max dimension size of a grid size    (x,y,z): (2147483647, 65535, 65535)\n",
            "  Maximum memory pitch:                          2147483647 bytes\n",
            "  Texture alignment:                             512 bytes\n",
            "  Concurrent copy and kernel execution:          Yes with 3 copy engine(s)\n",
            "  Run time limit on kernels:                     No\n",
            "  Integrated GPU sharing Host Memory:            No\n",
            "  Support host page-locked memory mapping:       Yes\n",
            "  Alignment requirement for Surfaces:            Yes\n",
            "  Device has ECC support:                        Enabled\n",
            "  Device supports Unified Addressing (UVA):      Yes\n",
            "  Device supports Compute Preemption:            Yes\n",
            "  Supports Cooperative Kernel Launch:            Yes\n",
            "  Supports MultiDevice Co-op Kernel Launch:      Yes\n",
            "  Device PCI Domain ID / Bus ID / location ID:   0 / 0 / 4\n",
            "  Compute Mode:\n",
            "     < Default (multiple host threads can use ::cudaSetDevice() with device simultaneously) >\n",
            "\n",
            "deviceQuery, CUDA Driver = CUDART, CUDA Driver Version = 10.0, CUDA Runtime Version = 10.0, NumDevs = 1\n",
            "Result = PASS\n",
            "nvcc: NVIDIA (R) Cuda compiler driver\n",
            "Copyright (c) 2005-2018 NVIDIA Corporation\n",
            "Built on Sat_Aug_25_21:08:01_CDT_2018\n",
            "Cuda compilation tools, release 10.0, V10.0.130\n"
          ],
          "name": "stdout"
        }
      ]
    },
    {
      "cell_type": "code",
      "metadata": {
        "id": "CNGKpuDH1ngJ",
        "colab_type": "code",
        "outputId": "21585704-8cf8-40ae-db4e-6cb42888165f",
        "colab": {
          "base_uri": "https://localhost:8080/",
          "height": 153
        }
      },
      "source": [
        "!pip install git+git://github.com/andreinechaev/nvcc4jupyter.git"
      ],
      "execution_count": 0,
      "outputs": [
        {
          "output_type": "stream",
          "text": [
            "Collecting git+git://github.com/andreinechaev/nvcc4jupyter.git\n",
            "  Cloning git://github.com/andreinechaev/nvcc4jupyter.git to /tmp/pip-req-build-5rpsnzzg\n",
            "  Running command git clone -q git://github.com/andreinechaev/nvcc4jupyter.git /tmp/pip-req-build-5rpsnzzg\n",
            "Requirement already satisfied (use --upgrade to upgrade): NVCCPlugin==0.0.2 from git+git://github.com/andreinechaev/nvcc4jupyter.git in /usr/local/lib/python3.6/dist-packages\n",
            "Building wheels for collected packages: NVCCPlugin\n",
            "  Building wheel for NVCCPlugin (setup.py) ... \u001b[?25l\u001b[?25hdone\n",
            "  Stored in directory: /tmp/pip-ephem-wheel-cache-e40a941e/wheels/10/c2/05/ca241da37bff77d60d31a9174f988109c61ba989e4d4650516\n",
            "Successfully built NVCCPlugin\n"
          ],
          "name": "stdout"
        }
      ]
    },
    {
      "cell_type": "code",
      "metadata": {
        "id": "c2eeKmMVdtt2",
        "colab_type": "code",
        "outputId": "e9fa09e9-f6bf-4d6b-fe1a-49dd90cece09",
        "colab": {
          "base_uri": "https://localhost:8080/",
          "height": 51
        }
      },
      "source": [
        "%load_ext nvcc_plugin"
      ],
      "execution_count": 0,
      "outputs": [
        {
          "output_type": "stream",
          "text": [
            "The nvcc_plugin extension is already loaded. To reload it, use:\n",
            "  %reload_ext nvcc_plugin\n"
          ],
          "name": "stdout"
        }
      ]
    },
    {
      "cell_type": "markdown",
      "metadata": {
        "id": "kC56SD4W0QTO",
        "colab_type": "text"
      },
      "source": [
        "#La foto se tiene que subir a: \n",
        "/usr/local/cuda-10.0/samples/1_Utilities/deviceQuery\n",
        "\n",
        "Y el nombre de la foto se especifica en el programa, por ahora estoy usando la de 720p.png"
      ]
    },
    {
      "cell_type": "code",
      "metadata": {
        "id": "PyK7NsPTiSJT",
        "colab_type": "code",
        "outputId": "43adeca3-eec8-4e16-9bcc-1435e3c02129",
        "colab": {
          "base_uri": "https://localhost:8080/",
          "height": 34
        }
      },
      "source": [
        "%%writefile main.cu\n",
        "\n",
        "#include <unistd.h>\n",
        "#include <stdlib.h>\n",
        "#include <stdio.h>\n",
        "#include <string.h>\n",
        "#include <stdarg.h>\n",
        "#include <vector>\n",
        "#include <cmath>\n",
        "#include <helper_cuda.h>\n",
        "#define PNG_DEBUG 3\n",
        "#include <png.h>\n",
        "\n",
        "using std::vector;\n",
        "\n",
        "typedef vector<double> Array;\n",
        "typedef vector<Array> Matrix;\n",
        "typedef vector<Matrix> Image;\n",
        "\n",
        "Matrix filter;\n",
        "Image image;\n",
        "Image newImage;\n",
        "int num_threads;\n",
        "\n",
        "void abort_(const char * s, ...)\n",
        "{\n",
        "        va_list args;\n",
        "        va_start(args, s);\n",
        "        vfprintf(stderr, s, args);\n",
        "        fprintf(stderr, \"\\n\");\n",
        "        va_end(args);\n",
        "        abort();\n",
        "}\n",
        "\n",
        "int GetDeviceCount(){\n",
        "    int deviceCount = 0;\n",
        "    cudaError_t error_id = cudaGetDeviceCount(&deviceCount);\n",
        "    return deviceCount;\n",
        "}\n",
        "\n",
        "int x, y;\n",
        "\n",
        "int width, height;\n",
        "png_byte color_type;\n",
        "png_byte bit_depth;\n",
        "\n",
        "png_structp png_ptr;\n",
        "png_infop info_ptr;\n",
        "int number_of_passes;\n",
        "png_bytep * row_pointers;\n",
        "\n",
        "void read_png_file(char* file_name)\n",
        "{\n",
        "        char header[8];    // 8 is the maximum size that can be checked\n",
        "\n",
        "        /* open file and test for it being a png */\n",
        "        FILE *fp = fopen(file_name, \"rb\");\n",
        "        if (!fp)\n",
        "                abort_(\"[read_png_file] File %s could not be opened for reading\", file_name);\n",
        "        fread(header, 1, 8, fp);\n",
        "        //if (png_sig_cmp(header, 0, 8))\n",
        "        //        abort_(\"[read_png_file] File %s is not recognized as a PNG file\", file_name);\n",
        "\n",
        "\n",
        "        /* initialize stuff */\n",
        "        png_ptr = png_create_read_struct(PNG_LIBPNG_VER_STRING, NULL, NULL, NULL);\n",
        "\n",
        "        if (!png_ptr)\n",
        "                abort_(\"[read_png_file] png_create_read_struct failed\");\n",
        "\n",
        "        info_ptr = png_create_info_struct(png_ptr);\n",
        "        if (!info_ptr)\n",
        "                abort_(\"[read_png_file] png_create_info_struct failed\");\n",
        "\n",
        "        if (setjmp(png_jmpbuf(png_ptr)))\n",
        "                abort_(\"[read_png_file] Error during init_io\");\n",
        "\n",
        "        png_init_io(png_ptr, fp);\n",
        "        png_set_sig_bytes(png_ptr, 8);\n",
        "\n",
        "        png_read_info(png_ptr, info_ptr);\n",
        "\n",
        "        width = png_get_image_width(png_ptr, info_ptr);\n",
        "        height = png_get_image_height(png_ptr, info_ptr);\n",
        "        color_type = png_get_color_type(png_ptr, info_ptr);\n",
        "        bit_depth = png_get_bit_depth(png_ptr, info_ptr);\n",
        "\n",
        "        number_of_passes = png_set_interlace_handling(png_ptr);\n",
        "        png_read_update_info(png_ptr, info_ptr);\n",
        "\n",
        "\n",
        "        /* read file */\n",
        "        if (setjmp(png_jmpbuf(png_ptr)))\n",
        "                abort_(\"[read_png_file] Error during read_image\");\n",
        "\n",
        "        row_pointers = (png_bytep*) malloc(sizeof(png_bytep) * height);\n",
        "        for (y=0; y<height; y++)\n",
        "                row_pointers[y] = (png_byte*) malloc(png_get_rowbytes(png_ptr,info_ptr));\n",
        "\n",
        "        png_read_image(png_ptr, row_pointers);\n",
        "\n",
        "        fclose(fp);\n",
        "}\n",
        "\n",
        "\n",
        "void write_png_file(char* file_name)\n",
        "{\n",
        "        /* create file */\n",
        "        FILE *fp = fopen(file_name, \"wb\");\n",
        "        if (!fp)\n",
        "                abort_(\"[write_png_file] File %s could not be opened for writing\", file_name);\n",
        "\n",
        "\n",
        "        /* initialize stuff */\n",
        "        png_ptr = png_create_write_struct(PNG_LIBPNG_VER_STRING, NULL, NULL, NULL);\n",
        "\n",
        "        if (!png_ptr)\n",
        "                abort_(\"[write_png_file] png_create_write_struct failed\");\n",
        "\n",
        "        info_ptr = png_create_info_struct(png_ptr);\n",
        "        if (!info_ptr)\n",
        "                abort_(\"[write_png_file] png_create_info_struct failed\");\n",
        "\n",
        "        if (setjmp(png_jmpbuf(png_ptr)))\n",
        "                abort_(\"[write_png_file] Error during init_io\");\n",
        "\n",
        "        png_init_io(png_ptr, fp);\n",
        "\n",
        "\n",
        "        /* write header */\n",
        "        if (setjmp(png_jmpbuf(png_ptr)))\n",
        "                abort_(\"[write_png_file] Error during writing header\");\n",
        "\n",
        "        png_set_IHDR(png_ptr, info_ptr, width, height,\n",
        "                     bit_depth, color_type, PNG_INTERLACE_NONE,\n",
        "                     PNG_COMPRESSION_TYPE_BASE, PNG_FILTER_TYPE_BASE);\n",
        "\n",
        "        png_write_info(png_ptr, info_ptr);\n",
        "\n",
        "\n",
        "        /* write bytes */\n",
        "        if (setjmp(png_jmpbuf(png_ptr)))\n",
        "                abort_(\"[write_png_file] Error during writing bytes\");\n",
        "\n",
        "        png_write_image(png_ptr, row_pointers);\n",
        "\n",
        "\n",
        "        /* end write */\n",
        "        if (setjmp(png_jmpbuf(png_ptr)))\n",
        "                abort_(\"[write_png_file] Error during end of write\");\n",
        "\n",
        "        png_write_end(png_ptr, NULL);\n",
        "\n",
        "        /* cleanup heap allocation */\n",
        "        for (y=0; y<height; y++)\n",
        "                free(row_pointers[y]);\n",
        "        free(row_pointers);\n",
        "\n",
        "        fclose(fp);\n",
        "}\n",
        "\n",
        "Matrix getGaussian(int height, int width, double sigma)\n",
        "{\n",
        "    Matrix kernel(height, Array(width));\n",
        "    double sum=0.0;\n",
        "    int i,j;\n",
        "\n",
        "    for (i=0 ; i<height ; i++) {\n",
        "        for (j=0 ; j<width ; j++) {\n",
        "            kernel[i][j] = exp(-(i*i+j*j)/(2*sigma*sigma))/(2*M_PI*sigma*sigma);\n",
        "            sum += kernel[i][j];\n",
        "        }\n",
        "    }\n",
        "\n",
        "    for (i=0 ; i<height ; i++) {\n",
        "        for (j=0 ; j<width ; j++) {\n",
        "            kernel[i][j] /= sum;\n",
        "        }\n",
        "    }\n",
        "\n",
        "    return kernel;\n",
        "}\n",
        "\n",
        "__global__ void vectorAdd(double ***image_d1, double **kernel, int test)\n",
        "{\n",
        "    int i = blockDim.x * blockIdx.x + threadIdx.x;\n",
        "    //printf(\"blockDim is: %d\\nblockId is: %d\\nthreadId is: %d\\n\", blockDim.x, blockIdx.x, threadIdx.x);\n",
        "    printf(\"value\");\n",
        "    \n",
        "    for(int j=0; j<100; j++){\n",
        "        for(int k=0; k<100; k++){\n",
        "            image_d1[j][k][0] = 0;\n",
        "            image_d1[j][k][1] = 0;\n",
        "            image_d1[j][k][2] = 0;\n",
        "            image_d1[j][k][3] = 0;\n",
        "        }\n",
        "    }\n",
        "}\n",
        "\n",
        "void process_file(int kernel)\n",
        "{\n",
        "    if (png_get_color_type(png_ptr, info_ptr) == PNG_COLOR_TYPE_RGB)\n",
        "      abort_(\"[process_file] input file is PNG_COLOR_TYPE_RGB but must be PNG_COLOR_TYPE_RGBA \"\n",
        "        \"(lacks the alpha channel)\");\n",
        "\n",
        "    if (png_get_color_type(png_ptr, info_ptr) != PNG_COLOR_TYPE_RGBA)\n",
        "      abort_(\"[process_file] color_type of input file must be PNG_COLOR_TYPE_RGBA (%d) (is %d)\",\n",
        "        PNG_COLOR_TYPE_RGBA, png_get_color_type(png_ptr, info_ptr));\n",
        "    \n",
        "    int device;\n",
        "    cudaGetDeviceCount(&device);\n",
        "    cudaSetDevice(device);\n",
        "    cudaDeviceProp deviceProp;\n",
        "    cudaGetDeviceProperties(&deviceProp, device);\n",
        "    \n",
        "    int err;\n",
        "    \n",
        "    int multiprocessorNum =  deviceProp.multiProcessorCount;\n",
        "    int cores_mp = _ConvertSMVer2Cores(deviceProp.major, deviceProp.minor);\n",
        "    int cores = _ConvertSMVer2Cores(deviceProp.major, deviceProp.minor) *deviceProp.multiProcessorCount;\n",
        "    \n",
        "    int size = sizeof(double) * 4 * width * height;\n",
        "    int kernelSize = sizeof(double) * kernel * kernel;\n",
        "    \n",
        "    double ***image_h1 = (double ***)malloc(size);\n",
        "    double ***image_d1 = NULL;\n",
        "    err = cudaMalloc((void ***)&image_d1, size);\n",
        "    double **kernel_h1 = (double **)malloc(kernelSize);\n",
        "    double **kernel_d1 = NULL;\n",
        "    err = cudaMalloc((void **)&kernel_d1, kernelSize);\n",
        "    \n",
        "    double ***output = (double ***)malloc(size);\n",
        "  \n",
        "    image_h1 = new double**[height];\n",
        "    for (y=0; y<height; y++) {\n",
        "        //err = cudaMalloc((void **)&image_d1[y], sizeof(double) * 4 * width);\n",
        "        image_h1[y] = new double*[width];\n",
        "        png_byte* row = row_pointers[y];\n",
        "        for (x=0; x<width; x++) {\n",
        "            \n",
        "            //err = cudaMalloc((void **)&image_d1[y][x], sizeof(double) * 4);\n",
        "            \n",
        "            png_byte* ptr = &(row[x*4]);\n",
        "            \n",
        "            image_h1[y][x] = new double[4];\n",
        "            image_h1[y][x][0] = (double)ptr[0];\n",
        "            image_h1[y][x][1] = (double)ptr[1];\n",
        "            image_h1[y][x][2] = (double)ptr[2];\n",
        "            image_h1[y][x][3] = (double)ptr[3];\n",
        "        }\n",
        "    }\n",
        "    \n",
        "    Matrix filter = getGaussian(kernel, kernel, 10.0);\n",
        "    kernel_h1 = new double*[kernel];\n",
        "    for(int i=0; i<kernel; i++){\n",
        "        \n",
        "        kernel_h1[i] = new double[kernel];\n",
        "        for(int j=0; j<kernel; j++){\n",
        "            \n",
        "            kernel_h1[i][j] = filter[i][j];\n",
        "        }\n",
        "    }\n",
        "    \n",
        "    for (int i=0; i<height; i++) {\n",
        "        for (int j=0; j<width; j++) {\n",
        "            for(int k=0; k<4; k++) {\n",
        "                //double* hostPointer = &image_h1[i][j][k]; \n",
        "                //double* devicePointer = &image_d1[i][j][k]; \n",
        "                //err = cudaMemcpy(&image_d1[i][j][k], &image_h1[i][j][k], sizeof(float), cudaMemcpyHostToDevice);\n",
        "            }\n",
        "        }\n",
        "    }\n",
        "    \n",
        "    err = cudaMemcpy(image_d1, image_h1, size, cudaMemcpyHostToDevice);\n",
        "    err = cudaMemcpy(kernel_d1, kernel_h1, kernelSize, cudaMemcpyHostToDevice);\n",
        "    \n",
        "    printf(\"Value is: %f\\n\", image_d1[1][1][1]);\n",
        "    //printf(\"Value is\");\n",
        "    \n",
        "    vectorAdd<<<multiprocessorNum, cores_mp>>>(image_d1, kernel_d1,12);\n",
        "    \n",
        "    err = cudaMemcpy(image_h1, image_d1, size, cudaMemcpyDeviceToHost);\n",
        "    \n",
        "    for (y=0; y<height; y++) {\n",
        "        png_byte* row = row_pointers[y];\n",
        "        for (x=0; x<width; x++) {\n",
        "            png_byte* ptr = &(row[x*4]);\n",
        "            \n",
        "            ptr[0] = image_h1[y][x][0];\n",
        "            ptr[1] = image_h1[y][x][1];\n",
        "            ptr[2] = image_h1[y][x][2];\n",
        "            ptr[3] = image_h1[y][x][3];\n",
        "        }\n",
        "    }\n",
        "    \n",
        "    printf(\"Ola k ase\\n\");\n",
        "    fflush(stdout);\n",
        "}\n",
        "\n",
        "int main(int argc, char **argv)\n",
        "{\n",
        "    if (argc != 4)\n",
        "      abort_(\"Usage: program_name <file_in> <file_out>\");\n",
        "    \n",
        "    int kernel = atoi(argv[3]);\n",
        "    \n",
        "  \tread_png_file(argv[1]);\n",
        "    process_file(kernel);\n",
        "    write_png_file(argv[2]);\n",
        "    return 0;\n",
        "}"
      ],
      "execution_count": 0,
      "outputs": [
        {
          "output_type": "stream",
          "text": [
            "Overwriting main.cu\n"
          ],
          "name": "stdout"
        }
      ]
    },
    {
      "cell_type": "code",
      "metadata": {
        "id": "Gn-MFa-XiYP8",
        "colab_type": "code",
        "outputId": "5bfc454b-5c83-4820-ed01-ad7205f1bf6c",
        "colab": {
          "base_uri": "https://localhost:8080/",
          "height": 85
        }
      },
      "source": [
        "!nvcc main.cu -o main -I /usr/local/cuda/samples/common/inc -lpng"
      ],
      "execution_count": 0,
      "outputs": [
        {
          "output_type": "stream",
          "text": [
            "main.cu(185): warning: variable \"i\" was declared but never referenced\n",
            "\n",
            "main.cu(215): warning: variable \"err\" was set but never used\n",
            "\n"
          ],
          "name": "stdout"
        }
      ]
    },
    {
      "cell_type": "code",
      "metadata": {
        "id": "euwCiZBrz-Yk",
        "colab_type": "code",
        "outputId": "4fd37e02-fc5d-4836-b0c5-4fd6c7b69fc5",
        "colab": {
          "base_uri": "https://localhost:8080/",
          "height": 51
        }
      },
      "source": [
        "!./main 720p.png output.png 10"
      ],
      "execution_count": 0,
      "outputs": [
        {
          "output_type": "stream",
          "text": [
            "MapSMtoCores for SM 954500941.32680 is undefined.  Default to use 64 Cores/SM\n",
            "MapSMtoCores for SM 954500941.32680 is undefined.  Default to use 64 Cores/SM\n"
          ],
          "name": "stdout"
        }
      ]
    },
    {
      "cell_type": "code",
      "metadata": {
        "id": "uWZHg8Rx0Wnj",
        "colab_type": "code",
        "outputId": "91451cfc-afdb-460a-e08e-7a7657b95007",
        "colab": {
          "base_uri": "https://localhost:8080/",
          "height": 63
        }
      },
      "source": [
        "!pwd"
      ],
      "execution_count": 0,
      "outputs": [
        {
          "output_type": "stream",
          "text": [
            "/usr/local/cuda-8.0/samples/1_Utilities/deviceQuery\n"
          ],
          "name": "stdout"
        }
      ]
    },
    {
      "cell_type": "code",
      "metadata": {
        "id": "5sMIMWL7JFTO",
        "colab_type": "code",
        "colab": {}
      },
      "source": [
        ""
      ],
      "execution_count": 0,
      "outputs": []
    }
  ]
}