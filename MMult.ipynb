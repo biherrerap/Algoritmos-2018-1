{
 "cells": [
  {
   "cell_type": "markdown",
   "metadata": {
    "collapsed": false
   },
   "source": [
    "import random\n",
    "import matplotlib.pyplot as plt\n",
    "from time import time\n",
    "\n",
    "\n",
    "arreglo = [0 for x in range(100)]\n",
    "\n",
    "for principal in range(100):\n",
    "\n",
    "    tiempo_inicial = time()\n",
    "\n",
    "    matriz = []\n",
    "    for i in range(principal):\n",
    "        matriz.append([])\n",
    "        for j in range(principal):\n",
    "            x = random.randint(1,2)\n",
    "            matriz[i].append(x)\n",
    "\n",
    "    matriz2 = []\n",
    "    for i in range(principal):\n",
    "        matriz2.append([])\n",
    "        for j in range(principal):\n",
    "            x = random.randint(1,2)\n",
    "            matriz2[i].append(x)\n",
    "\n",
    "    matrizf = []\n",
    "    for i in range(principal):\n",
    "        matrizf.append([])\n",
    "        for j in range(principal):\n",
    "            matrizf[i].append(0)\n",
    "\n",
    "\n",
    "    for i in range(0,principal):\n",
    "        for j in range(0,principal):\n",
    "            for k in range(0,principal):\n",
    "                matrizf[i][j] += matriz[i][k]*matriz2[k][j]\n",
    "\n",
    "    tiempo_final = time()\n",
    "    tiempo_ejecucion = tiempo_final - tiempo_inicial\n",
    "    arreglo[principal] = tiempo_ejecucion\n",
    "\n",
    "plt.plot(arreglo, color='lightblue', linewidth=3)\n",
    "\n",
    "plt.show()"
   ]
  },
  {
   "cell_type": "code",
   "execution_count": null,
   "metadata": {
    "collapsed": true
   },
   "outputs": [],
   "source": []
  }
 ],
 "metadata": {
  "kernelspec": {
   "display_name": "Python 2",
   "language": "python",
   "name": "python2"
  },
  "language_info": {
   "codemirror_mode": {
    "name": "ipython",
    "version": 2
   },
   "file_extension": ".py",
   "mimetype": "text/x-python",
   "name": "python",
   "nbconvert_exporter": "python",
   "pygments_lexer": "ipython2",
   "version": "2.7.12"
  }
 },
 "nbformat": 4,
 "nbformat_minor": 2
}
